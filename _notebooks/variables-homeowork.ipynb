{
 "cells": [
  {
   "cell_type": "code",
   "execution_count": null,
   "id": "a43a3d35",
   "metadata": {},
   "outputs": [],
   "source": [
    "<style>\n",
    ".glowing-text {\n",
    "  color: #fff; /* Set the text color to white or a light color for better contrast */\n",
    "  text-shadow: 0 0 10px #8a2be2, /* Purple glow */\n",
    "               0 0 20px #8a2be2, /* Deeper purple glow */\n",
    "               0 0 30px #4169e1, /* Blue glow */\n",
    "               0 0 40px #4169e1; /* Deeper blue glow */\n",
    "\n",
    "  font-weight: bold;\n",
    "  margin-top: 0;\n",
    "}\n",
    "</style>\n",
    "\n",
    "Presented by the\n",
    "<h4 class=\"glowing-text\">TINKERERS</h4>\n",
    "\n",
    "<hr>\n",
    "\n",
    "# <div style=\"font-weight:bold; text-decoration:underline;\">Popcorn Hack 1 🍿😈</div>\n",
    "\n",
    "Let's start diving into some of the questions. \n",
    "\n",
    "## Instructions\n",
    "\n",
    "Below instructions refer to this code cell:"
   ]
  }
 ],
 "metadata": {
  "language_info": {
   "name": "python"
  }
 },
 "nbformat": 4,
 "nbformat_minor": 5
}
