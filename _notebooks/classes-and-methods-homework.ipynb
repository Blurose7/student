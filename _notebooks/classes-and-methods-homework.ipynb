{
 "cells": [
  {
   "cell_type": "code",
   "execution_count": 9,
   "id": "1aaf841e",
   "metadata": {},
   "outputs": [
    {
     "ename": "SyntaxError",
     "evalue": "invalid syntax (363207115.py, line 1)",
     "output_type": "error",
     "traceback": [
      "  \u001b[36mCell\u001b[39m\u001b[36m \u001b[39m\u001b[32mIn[9]\u001b[39m\u001b[32m, line 1\u001b[39m\n\u001b[31m    \u001b[39m\u001b[31mconst prompt = require('prompt-sync')({sigint: true});\u001b[39m\n          ^\n\u001b[31mSyntaxError\u001b[39m\u001b[31m:\u001b[39m invalid syntax\n"
     ]
    }
   ],
   "source": [
    "const prompt = require('prompt-sync')({sigint: true});\n",
    "\n",
    "let userInput = 0;\n",
    "let isValid = false;\n",
    "\n",
    "while (!isValid) {\n",
    "    let input = prompt(\"Enter a starting number for the countdown (must be > 0): \");\n",
    "    \n",
    "    let num = parseInt(input);\n",
    "\n",
    "    if (!isNaN(num) && num > 0) {\n",
    "        userInput = num;\n",
    "        isValid = true;\n",
    "    } else {\n",
    "        console.log(\"⚠️ Invalid input! Please enter a whole number greater than 0.\");\n",
    "    }\n",
    "}\n",
    "\n",
    "console.log(`\\nStarting the countdown from ${userInput}...`);\n",
    "console.log(\"=======================================\");\n",
    "\n",
    "let countdown = userInput;\n",
    "\n",
    "while (countdown > 0) {\n",
    "    \n",
    "    console.log(`Time remaining: ${countdown}`);\n",
    "    \n",
    "    countdown--; \n",
    "}\n",
    "\n",
    "console.log(\"=======================================\");\n",
    "if (countdown === 0) {\n",
    "    console.log(`End Statement: 💥 COUNTDOWN COMPLETE! (${userInput} iterations executed) 💥`);\n",
    "} else {\n",
    "    console.log(\"End Statement: 🛑 ERROR! The loop ended unexpectedly.\");\n",
    "}"
   ]
  }
 ],
 "metadata": {
  "kernelspec": {
   "display_name": "venv",
   "language": "python",
   "name": "python3"
  },
  "language_info": {
   "codemirror_mode": {
    "name": "ipython",
    "version": 3
   },
   "file_extension": ".py",
   "mimetype": "text/x-python",
   "name": "python",
   "nbconvert_exporter": "python",
   "pygments_lexer": "ipython3",
   "version": "3.13.7"
  }
 },
 "nbformat": 4,
 "nbformat_minor": 5
}
